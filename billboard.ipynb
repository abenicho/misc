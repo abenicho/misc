{
 "cells": [
  {
   "cell_type": "code",
   "execution_count": 1,
   "metadata": {
    "collapsed": false
   },
   "outputs": [
    {
     "name": "stdout",
     "output_type": "stream",
     "text": [
      "Case #0 : 3\n",
      "Case #1 : 10\n",
      "Case #2 : 2\n",
      "Case #3 : 8\n",
      "Case #4 : 7\n"
     ]
    }
   ],
   "source": [
    "class billboard(object):\n",
    "    \"\"\"\n",
    "    A billboard object, with constant size and fixed message. Returns the maximum\n",
    "    fontsize we could fit the message with. It tests every font size from 1 until\n",
    "    it fails\n",
    "\n",
    "\n",
    "    you might want to check sys.getrecursionlimit()>len(S) for very large billboards\n",
    "    ----------\n",
    "    parameters:\n",
    "        W (int) width\n",
    "        H (int) height\n",
    "        S (Array[Int]) list of word lengths corresponding to the message we want to fit\n",
    "\n",
    "    attributes:\n",
    "        font_size (int) : final maximal font_size\n",
    "\n",
    "    usage:\n",
    "        model = billboard(W, H, S)\n",
    "        model.fit()\n",
    "\n",
    "    \"\"\"\n",
    "\n",
    "    def __init__(self, W, H, S):\n",
    "        self.W = W\n",
    "        self.H = H\n",
    "        self.S = S\n",
    "\n",
    "    def fit(self):\n",
    "        self.turtle(self.S)\n",
    "\n",
    "    def turtle(self, S, y=0, font_size_=1):\n",
    "        \"\"\"\n",
    "        Internal method.\n",
    "        keeps track of a cursor with coordinates (x,y).\n",
    "        If text don't fit, returns last successful text fitting.\n",
    "        If text fits, calls itself recursively with a higher font_size_.\n",
    "        If text needs to (and can) be splitted to another line, calls itself\n",
    "        recursively starting a new line with the same font_size_.\n",
    "        \n",
    "        parameters:\n",
    "        S (Array[Int]) list of word lengths corresponding to the message we want to fit\n",
    "        y (int) : vertical starting point, in inches\n",
    "        font_size_ (int) : font_size_ to test\n",
    "        \"\"\"\n",
    "\n",
    "        x = 0\n",
    "        for k, s in enumerate(S):\n",
    "            if s*font_size_ > self.W:\n",
    "                # maximum width reached with only one word, return last attempt (could be 0)\n",
    "                self.font_size = font_size_ - 1\n",
    "                return\n",
    "            # space between words except for first word\n",
    "            if x > 0:\n",
    "                space = font_size_\n",
    "            else:\n",
    "                space = 0\n",
    "            x += space+font_size_*s\n",
    "            if x > self.W:\n",
    "                # maximum width reached, try a new line\n",
    "                x = 0\n",
    "                y += font_size_\n",
    "                if y > self.H-font_size_:\n",
    "                    # max height reached, we can't make a new line, return last attempt\n",
    "                    self.font_size = font_size_-1\n",
    "                    return\n",
    "                self.turtle(S[k:], y, font_size_)\n",
    "                return\n",
    "        self.turtle(self.S, 0, font_size_+1)\n",
    "\n",
    "        \n",
    "s = '''5\n",
    "20 6 hacker cup\n",
    "100 20 hacker cup 2013\n",
    "10 20 MUST BE ABLE TO HACK\n",
    "55 25 Can you hack\n",
    "100 20 Hack your way to the cup'''\n",
    "\n",
    "\n",
    "for k, line in enumerate(s.split(\"\\n\")[1:]):\n",
    "    l = line.split(\" \")\n",
    "    model = billboard(W=int(l[0]), H=int(l[1]), S=[len(x) for x in l[2:]])\n",
    "    model.fit()\n",
    "    print \"Case #%s : %s\" % (k, model.font_size)\n"
   ]
  },
  {
   "cell_type": "code",
   "execution_count": null,
   "metadata": {
    "collapsed": true
   },
   "outputs": [],
   "source": []
  }
 ],
 "metadata": {
  "kernelspec": {
   "display_name": "Python 2",
   "language": "python",
   "name": "python2"
  },
  "language_info": {
   "codemirror_mode": {
    "name": "ipython",
    "version": 2
   },
   "file_extension": ".py",
   "mimetype": "text/x-python",
   "name": "python",
   "nbconvert_exporter": "python",
   "pygments_lexer": "ipython2",
   "version": "2.7.13"
  }
 },
 "nbformat": 4,
 "nbformat_minor": 2
}
